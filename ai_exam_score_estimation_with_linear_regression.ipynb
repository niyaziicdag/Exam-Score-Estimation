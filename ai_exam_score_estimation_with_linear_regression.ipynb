{
 "cells": [
  {
   "cell_type": "code",
   "execution_count": 26,
   "metadata": {},
   "outputs": [],
   "source": [
    "import numpy as np\n",
    "import pandas as pd\n",
    "from matplotlib import pyplot as plt"
   ]
  },
  {
   "cell_type": "code",
   "execution_count": 28,
   "metadata": {
    "scrolled": true
   },
   "outputs": [],
   "source": [
    "#verisetini okuyoruz\n",
    "df=pd.read_csv(\"Puanlar.csv\")\n",
    "df2=df.copy()"
   ]
  },
  {
   "cell_type": "code",
   "execution_count": 29,
   "metadata": {},
   "outputs": [
    {
     "data": {
      "text/html": [
       "<div>\n",
       "<style scoped>\n",
       "    .dataframe tbody tr th:only-of-type {\n",
       "        vertical-align: middle;\n",
       "    }\n",
       "\n",
       "    .dataframe tbody tr th {\n",
       "        vertical-align: top;\n",
       "    }\n",
       "\n",
       "    .dataframe thead th {\n",
       "        text-align: right;\n",
       "    }\n",
       "</style>\n",
       "<table border=\"1\" class=\"dataframe\">\n",
       "  <thead>\n",
       "    <tr style=\"text-align: right;\">\n",
       "      <th></th>\n",
       "      <th>ID</th>\n",
       "      <th>Bolum</th>\n",
       "      <th>Universite</th>\n",
       "      <th>Sehir</th>\n",
       "      <th>1999</th>\n",
       "      <th>2000</th>\n",
       "      <th>2001</th>\n",
       "      <th>2002</th>\n",
       "      <th>2003</th>\n",
       "      <th>2004</th>\n",
       "      <th>2005</th>\n",
       "      <th>2006</th>\n",
       "      <th>2007</th>\n",
       "      <th>2008</th>\n",
       "      <th>2009</th>\n",
       "      <th>2010</th>\n",
       "    </tr>\n",
       "  </thead>\n",
       "  <tbody>\n",
       "    <tr>\n",
       "      <th>0</th>\n",
       "      <td>0</td>\n",
       "      <td>Bilgisayar Mühendisligi</td>\n",
       "      <td>ANADOLU ÜNİVERSİTESİ (ESKİŞEHİR)-İ</td>\n",
       "      <td>Eskişehir</td>\n",
       "      <td>0.000</td>\n",
       "      <td>0.000</td>\n",
       "      <td>0.0</td>\n",
       "      <td>0.0</td>\n",
       "      <td>350.781</td>\n",
       "      <td>349.184</td>\n",
       "      <td>351.886</td>\n",
       "      <td>331.568</td>\n",
       "      <td>346.516</td>\n",
       "      <td>338.689</td>\n",
       "      <td>452.0</td>\n",
       "      <td>476.512</td>\n",
       "    </tr>\n",
       "    <tr>\n",
       "      <th>1</th>\n",
       "      <td>1</td>\n",
       "      <td>Bilgisayar Mühendisligi</td>\n",
       "      <td>ANKARA ÜNİVERSİTESİ</td>\n",
       "      <td>Ankara</td>\n",
       "      <td>0.000</td>\n",
       "      <td>0.000</td>\n",
       "      <td>0.0</td>\n",
       "      <td>0.0</td>\n",
       "      <td>352.496</td>\n",
       "      <td>354.072</td>\n",
       "      <td>356.375</td>\n",
       "      <td>337.520</td>\n",
       "      <td>350.939</td>\n",
       "      <td>342.315</td>\n",
       "      <td>458.0</td>\n",
       "      <td>487.446</td>\n",
       "    </tr>\n",
       "    <tr>\n",
       "      <th>2</th>\n",
       "      <td>2</td>\n",
       "      <td>Bilgisayar Mühendisligi</td>\n",
       "      <td>ATILIM UNİVERSİTESİ (ANKARA)</td>\n",
       "      <td>Ankara</td>\n",
       "      <td>172.266</td>\n",
       "      <td>170.072</td>\n",
       "      <td>0.0</td>\n",
       "      <td>0.0</td>\n",
       "      <td>252.992</td>\n",
       "      <td>279.343</td>\n",
       "      <td>296.337</td>\n",
       "      <td>296.337</td>\n",
       "      <td>272.082</td>\n",
       "      <td>253.769</td>\n",
       "      <td>0.0</td>\n",
       "      <td>0.000</td>\n",
       "    </tr>\n",
       "    <tr>\n",
       "      <th>3</th>\n",
       "      <td>3</td>\n",
       "      <td>Bilgisayar Mühendisligi</td>\n",
       "      <td>ATILIM UNİVERSİTESİ (ANKARA)-B</td>\n",
       "      <td>Ankara</td>\n",
       "      <td>0.000</td>\n",
       "      <td>0.000</td>\n",
       "      <td>0.0</td>\n",
       "      <td>0.0</td>\n",
       "      <td>340.244</td>\n",
       "      <td>339.154</td>\n",
       "      <td>345.326</td>\n",
       "      <td>315.555</td>\n",
       "      <td>335.198</td>\n",
       "      <td>328.233</td>\n",
       "      <td>437.0</td>\n",
       "      <td>459.950</td>\n",
       "    </tr>\n",
       "    <tr>\n",
       "      <th>4</th>\n",
       "      <td>4</td>\n",
       "      <td>Bilgisayar Mühendisligi</td>\n",
       "      <td>ATILIM UNİVERSİTESİ (ANKARA)-B50</td>\n",
       "      <td>Ankara</td>\n",
       "      <td>0.000</td>\n",
       "      <td>0.000</td>\n",
       "      <td>0.0</td>\n",
       "      <td>0.0</td>\n",
       "      <td>0.000</td>\n",
       "      <td>0.000</td>\n",
       "      <td>334.631</td>\n",
       "      <td>295.837</td>\n",
       "      <td>316.256</td>\n",
       "      <td>308.373</td>\n",
       "      <td>334.0</td>\n",
       "      <td>382.086</td>\n",
       "    </tr>\n",
       "  </tbody>\n",
       "</table>\n",
       "</div>"
      ],
      "text/plain": [
       "   ID                    Bolum                          Universite      Sehir  \\\n",
       "0   0  Bilgisayar Mühendisligi  ANADOLU ÜNİVERSİTESİ (ESKİŞEHİR)-İ  Eskişehir   \n",
       "1   1  Bilgisayar Mühendisligi                 ANKARA ÜNİVERSİTESİ     Ankara   \n",
       "2   2  Bilgisayar Mühendisligi        ATILIM UNİVERSİTESİ (ANKARA)     Ankara   \n",
       "3   3  Bilgisayar Mühendisligi      ATILIM UNİVERSİTESİ (ANKARA)-B     Ankara   \n",
       "4   4  Bilgisayar Mühendisligi    ATILIM UNİVERSİTESİ (ANKARA)-B50     Ankara   \n",
       "\n",
       "      1999     2000  2001  2002     2003     2004     2005     2006     2007  \\\n",
       "0    0.000    0.000   0.0   0.0  350.781  349.184  351.886  331.568  346.516   \n",
       "1    0.000    0.000   0.0   0.0  352.496  354.072  356.375  337.520  350.939   \n",
       "2  172.266  170.072   0.0   0.0  252.992  279.343  296.337  296.337  272.082   \n",
       "3    0.000    0.000   0.0   0.0  340.244  339.154  345.326  315.555  335.198   \n",
       "4    0.000    0.000   0.0   0.0    0.000    0.000  334.631  295.837  316.256   \n",
       "\n",
       "      2008   2009     2010  \n",
       "0  338.689  452.0  476.512  \n",
       "1  342.315  458.0  487.446  \n",
       "2  253.769    0.0    0.000  \n",
       "3  328.233  437.0  459.950  \n",
       "4  308.373  334.0  382.086  "
      ]
     },
     "execution_count": 29,
     "metadata": {},
     "output_type": "execute_result"
    }
   ],
   "source": [
    "df.head()"
   ]
  },
  {
   "cell_type": "markdown",
   "metadata": {},
   "source": [
    "### Veri setinde bölüm, üniversite ve kayıt sayıları aşağıda listelenmiştir."
   ]
  },
  {
   "cell_type": "code",
   "execution_count": 30,
   "metadata": {},
   "outputs": [
    {
     "data": {
      "text/plain": [
       "140    1\n",
       "43     1\n",
       "49     1\n",
       "48     1\n",
       "47     1\n",
       "      ..\n",
       "99     1\n",
       "100    1\n",
       "101    1\n",
       "102    1\n",
       "0      1\n",
       "Name: ID, Length: 141, dtype: int64"
      ]
     },
     "execution_count": 30,
     "metadata": {},
     "output_type": "execute_result"
    }
   ],
   "source": [
    "df['ID'].value_counts()"
   ]
  },
  {
   "cell_type": "code",
   "execution_count": 31,
   "metadata": {},
   "outputs": [
    {
     "data": {
      "text/plain": [
       "EGE ÜNİVERSİTESİ (İZMİR)               2\n",
       "HACETTEPE ÜNİVERSİTESİ (ANKARA)        2\n",
       "BAŞKENT  ÜNİVERSİTESİ (ANKARA)         2\n",
       "BAŞKENT  ÜNİVERSİTESİ (ANKARA)-B       2\n",
       "YEDİTEPE  ÜNİVERSİTESİ (İSTANBUL)      2\n",
       "                                      ..\n",
       "İSTANBUL KÜLTÜR  ÜNİVERSİTESİ-İ-B      1\n",
       "HARRAN ÜNİVERSİTESİ (fiANLIURFA)       1\n",
       "MALTEPE  ÜNİVERSİTESİ (İSTANBUL)       1\n",
       "BEYKENT ÜNİVERSİTESİ (İSTANBUL)        1\n",
       "ONDOKUZ MAYIS ÜNİVERSİTESİ (SAMSUN)    1\n",
       "Name: Universite, Length: 131, dtype: int64"
      ]
     },
     "execution_count": 31,
     "metadata": {},
     "output_type": "execute_result"
    }
   ],
   "source": [
    "df['Universite'].value_counts()"
   ]
  },
  {
   "cell_type": "code",
   "execution_count": 32,
   "metadata": {},
   "outputs": [
    {
     "data": {
      "text/plain": [
       "Bilgisayar Mühendisligi    85\n",
       "Tıp Fakültesi              56\n",
       "Name: Bolum, dtype: int64"
      ]
     },
     "execution_count": 32,
     "metadata": {},
     "output_type": "execute_result"
    }
   ],
   "source": [
    "df['Bolum'].value_counts()"
   ]
  },
  {
   "cell_type": "code",
   "execution_count": 33,
   "metadata": {},
   "outputs": [
    {
     "data": {
      "text/plain": [
       "İstanbul         46\n",
       "Ankara           25\n",
       "Kktc              9\n",
       "İzmir             9\n",
       "Kocaeli           4\n",
       "Eskişehir         3\n",
       "Konya             3\n",
       "Sakarya           2\n",
       "Adana             2\n",
       "Isparta           2\n",
       "Kayseri           2\n",
       "Denizli           2\n",
       "Şanlıurfa         2\n",
       "Mersin            2\n",
       "Çanakkale         2\n",
       "Elazığ            2\n",
       "Trabzon           2\n",
       "Edirne            2\n",
       "Kütahya           1\n",
       "Aydın             1\n",
       "Zonguldak         1\n",
       "Bursa             1\n",
       "Düzce             1\n",
       "Van               1\n",
       "KARS              1\n",
       "Antalya           1\n",
       "Tokat             1\n",
       "Malatya           1\n",
       "Kahramanmaraş     1\n",
       "Samsun            1\n",
       "Kırıkkale         1\n",
       "Manisa            1\n",
       "Gaziantep         1\n",
       "Diyarbakır        1\n",
       "Bolu              1\n",
       "Erzurum           1\n",
       "Afyon             1\n",
       "Sivas             1\n",
       "Name: Sehir, dtype: int64"
      ]
     },
     "execution_count": 33,
     "metadata": {},
     "output_type": "execute_result"
    }
   ],
   "source": [
    "df['Sehir'].value_counts()"
   ]
  },
  {
   "cell_type": "markdown",
   "metadata": {},
   "source": [
    "## Eksik Veri Kontrolü\n",
    "\n",
    "Veri setimiz aşağıda kontrol edilmiş ve sütunlarda eksik veri bulunmamaktadır."
   ]
  },
  {
   "cell_type": "code",
   "execution_count": 34,
   "metadata": {
    "scrolled": true
   },
   "outputs": [
    {
     "name": "stdout",
     "output_type": "stream",
     "text": [
      "<class 'pandas.core.frame.DataFrame'>\n",
      "RangeIndex: 141 entries, 0 to 140\n",
      "Data columns (total 16 columns):\n",
      " #   Column      Non-Null Count  Dtype  \n",
      "---  ------      --------------  -----  \n",
      " 0   ID          141 non-null    int64  \n",
      " 1   Bolum       141 non-null    object \n",
      " 2   Universite  141 non-null    object \n",
      " 3   Sehir       141 non-null    object \n",
      " 4   1999        141 non-null    float64\n",
      " 5   2000        141 non-null    float64\n",
      " 6   2001        141 non-null    float64\n",
      " 7   2002        141 non-null    float64\n",
      " 8   2003        141 non-null    float64\n",
      " 9   2004        141 non-null    float64\n",
      " 10  2005        141 non-null    float64\n",
      " 11  2006        141 non-null    float64\n",
      " 12  2007        141 non-null    float64\n",
      " 13  2008        141 non-null    float64\n",
      " 14  2009        141 non-null    float64\n",
      " 15  2010        141 non-null    float64\n",
      "dtypes: float64(12), int64(1), object(3)\n",
      "memory usage: 17.8+ KB\n"
     ]
    }
   ],
   "source": [
    "df.info()"
   ]
  },
  {
   "cell_type": "code",
   "execution_count": 35,
   "metadata": {},
   "outputs": [],
   "source": [
    "from sklearn.linear_model import LinearRegression\n",
    "from sklearn.model_selection import train_test_split\n",
    "from sklearn.metrics import accuracy_score"
   ]
  },
  {
   "cell_type": "code",
   "execution_count": 36,
   "metadata": {},
   "outputs": [],
   "source": [
    "X = df[['1999', '2000','2001', '2002', '2003', '2004', '2005','2006','2007']] .values\n",
    "y = df['2010'].values"
   ]
  },
  {
   "cell_type": "code",
   "execution_count": 37,
   "metadata": {},
   "outputs": [],
   "source": [
    "X_train, X_test, y_train, y_test = train_test_split(X, y, test_size=0.25, random_state=0)"
   ]
  },
  {
   "cell_type": "code",
   "execution_count": 38,
   "metadata": {},
   "outputs": [
    {
     "name": "stdout",
     "output_type": "stream",
     "text": [
      "[[  0.      0.      0.      0.    368.227 369.692 370.648 359.295 365.892]\n",
      " [  0.      0.      0.      0.    366.651 370.275 373.07  365.822 371.574]\n",
      " [  0.      0.      0.      0.    348.078 349.714 354.61  339.431 353.517]\n",
      " [  0.      0.      0.      0.      0.      0.      0.    311.429   0.   ]\n",
      " [  0.      0.      0.      0.    284.319 310.617 318.932 274.17  297.601]\n",
      " [  0.      0.      0.      0.    350.991 350.75  353.589 334.217 348.656]\n",
      " [  0.    209.187 211.741   0.    357.635 359.836 364.242 353.436 362.902]\n",
      " [  0.      0.      0.      0.      0.      0.    263.379 263.379 297.907]\n",
      " [  0.      0.      0.      0.    335.273 342.215 348.778 330.819 348.586]\n",
      " [  0.      0.      0.      0.      0.      0.    334.73  303.215 323.825]\n",
      " [  0.      0.      0.      0.    351.403 352.651 357.401 343.301 356.008]\n",
      " [  0.      0.      0.      0.    348.718 350.851 356.232 341.681 355.225]\n",
      " [  0.      0.      0.      0.    350.321 350.475 352.48  325.734 343.608]\n",
      " [170.884 178.028 176.121 183.678 321.951 330.231 339.503 316.304 341.904]\n",
      " [  0.      0.      0.      0.    371.116 371.116 374.29  363.1   368.903]\n",
      " [  0.      0.      0.      0.    358.815 361.003 364.805 352.937 356.282]\n",
      " [  0.      0.      0.      0.    353.867 356.677 362.076 349.832 358.302]\n",
      " [172.317   0.    183.218   0.    309.045 310.068 317.063 257.466 282.991]\n",
      " [  0.      0.      0.      0.    349.293 351.177 356.195 340.603 354.656]\n",
      " [177.652 183.338 170.935 169.482 301.055 313.609 316.799 271.396 291.583]\n",
      " [  0.      0.      0.      0.      0.    347.96  353.224 337.208 352.502]\n",
      " [202.098   0.    206.004 203.553 345.085 344.858 348.034 321.725 342.544]\n",
      " [  0.      0.      0.      0.    347.535 345.948 349.723 329.748 344.844]\n",
      " [  0.      0.      0.      0.    353.005 355.047 359.965 346.376 357.923]\n",
      " [  0.      0.      0.      0.    347.64  349.069 354.135 338.418 353.487]\n",
      " [  0.      0.      0.      0.    340.244 339.154 345.326 315.555 335.198]\n",
      " [  0.      0.    201.829 186.818 314.644 324.213 327.03  288.183 311.017]\n",
      " [  0.      0.      0.      0.    340.816 339.633 344.039 320.311 338.841]\n",
      " [  0.      0.      0.      0.    364.702 367.601 369.973 361.615 369.076]\n",
      " [213.344   0.      0.    211.202 353.92  352.664 353.301 333.825 347.154]\n",
      " [  0.      0.      0.    207.312 351.857 352.648 356.32  339.476 350.537]\n",
      " [  0.      0.      0.      0.    371.407 373.249 372.679 360.545 366.785]\n",
      " [  0.      0.      0.      0.    349.817 351.657 356.416 341.779 355.16 ]\n",
      " [  0.      0.      0.      0.    350.753 352.385 363.361 342.558 355.344]\n",
      " [  0.      0.      0.      0.    349.877 351.261 355.775 339.717 353.728]\n",
      " [  0.      0.      0.      0.    352.617 353.504 358.142 344.288 356.491]\n",
      " [207.962   0.      0.    193.651 335.785 337.751 338.685 311.405 328.267]\n",
      " [  0.      0.      0.      0.    347.212 348.682 353.856 338.007 352.949]\n",
      " [  0.      0.      0.      0.      0.      0.      0.    307.706 332.585]\n",
      " [  0.      0.      0.      0.    365.621 367.137 368.686 355.792 362.249]\n",
      " [  0.      0.      0.      0.    350.378 352.445 357.657 344.512 356.983]\n",
      " [  0.      0.      0.      0.    352.496 354.072 356.375 337.52  350.939]\n",
      " [  0.      0.      0.      0.    349.    350.909 355.541 339.896 354.11 ]\n",
      " [  0.      0.      0.      0.    350.941 351.935 356.419 341.532 354.772]\n",
      " [  0.      0.      0.      0.    268.786 297.656 308.479 268.045 291.639]\n",
      " [  0.      0.      0.      0.      0.      0.    334.631 295.837 316.256]\n",
      " [  0.      0.      0.      0.    359.149 361.938 366.023 355.998 364.622]\n",
      " [  0.      0.      0.      0.      0.      0.    348.662 328.777 344.766]\n",
      " [  0.      0.      0.      0.    352.062 350.997 352.946 332.536   0.   ]\n",
      " [164.574 164.741   0.      0.    238.015 270.878 286.379 286.379 277.786]\n",
      " [  0.      0.      0.      0.    368.466 371.958 373.252 362.467 368.379]\n",
      " [209.074 207.433   0.      0.    354.786 356.428 361.172 348.56  359.308]\n",
      " [  0.      0.      0.      0.    361.123 363.344 367.346 356.823 365.6  ]\n",
      " [  0.      0.      0.      0.    350.781 349.184 351.886 331.568 346.516]\n",
      " [  0.    147.028 134.812 135.791 347.467 343.253 347.788 318.575 336.017]\n",
      " [  0.      0.      0.      0.    338.222 336.2   339.99  312.754 332.339]\n",
      " [  0.      0.      0.      0.    344.452 343.34  346.425 319.147 304.627]\n",
      " [  0.      0.      0.      0.    358.986 358.454 359.512 342.072 351.625]\n",
      " [  0.      0.      0.      0.      0.      0.    334.706   0.      0.   ]\n",
      " [  0.      0.      0.      0.    355.556 354.101 355.671 334.85  348.159]\n",
      " [  0.    207.609   0.    178.3   360.06  362.174 362.528 326.87  345.834]\n",
      " [  0.      0.      0.      0.    347.321 344.623 349.376 327.501 344.314]\n",
      " [  0.      0.      0.      0.    347.637 349.169 354.241 338.639 353.223]\n",
      " [  0.      0.      0.      0.    341.935 340.679 345.111   0.      0.   ]\n",
      " [  0.      0.      0.      0.    351.029 353.11  358.435 345.589 357.43 ]\n",
      " [  0.      0.      0.      0.      0.      0.      0.    314.907 334.28 ]\n",
      " [  0.      0.      0.      0.    360.64  360.926 361.746 346.962 354.973]\n",
      " [  0.      0.      0.      0.    351.453 353.69  358.563 345.716 357.239]\n",
      " [  0.      0.      0.      0.    341.406 340.263 344.517 320.35  338.878]\n",
      " [  0.      0.      0.      0.    365.876 368.135 370.795 363.396 370.21 ]\n",
      " [  0.      0.    205.436   0.    343.775 343.123 346.555 316.643 335.826]\n",
      " [  0.      0.      0.      0.    359.45  359.613 360.368 345.762 355.867]\n",
      " [  0.      0.      0.      0.    344.119 343.369 347.012 324.969 341.075]\n",
      " [  0.      0.      0.      0.    352.486 354.21  359.592 346.719 358.319]\n",
      " [  0.      0.      0.      0.    347.962 349.557 354.683 339.292 353.625]\n",
      " [190.525 193.419 193.16    0.    220.62  276.593 309.457 273.666 296.657]\n",
      " [  0.      0.      0.    201.536 342.176 341.12  345.605 321.708 339.881]\n",
      " [  0.      0.      0.    215.99  362.521 364.421 367.524 350.242 359.688]\n",
      " [  0.      0.      0.    125.627 256.783 280.611 309.167 279.393 285.548]\n",
      " [  0.      0.      0.      0.      0.      0.     36.612 355.657 363.486]\n",
      " [  0.      0.      0.      0.    348.76  350.404 355.599 340.536 354.878]\n",
      " [  0.      0.      0.      0.      0.    259.937 287.035 287.035 316.166]\n",
      " [169.787 170.777 157.718 174.923   0.      0.      0.      0.      0.   ]\n",
      " [  0.      0.      0.      0.      0.      0.    331.434 300.538 315.682]\n",
      " [  0.    206.386   0.      0.    357.18  365.053 366.612 355.736 364.727]\n",
      " [  0.      0.      0.      0.    332.328 347.447   0.    301.195 323.506]\n",
      " [  0.      0.      0.      0.    336.181 332.28  323.806 299.489 322.745]\n",
      " [175.113   0.    172.033 172.939 303.867 313.058 323.356 268.77  293.448]\n",
      " [  0.      0.    212.126   0.    350.184 336.167 346.952   0.      0.   ]\n",
      " [  0.      0.      0.      0.      0.      0.    270.798 270.798 270.798]\n",
      " [202.734 201.956   0.    204.689 348.387 350.048 355.456 340.711 355.063]\n",
      " [  0.      0.    213.567   0.    351.07  348.76  351.341 330.445 346.127]\n",
      " [  0.      0.      0.      0.    349.111 352.395 361.533 352.43  360.412]\n",
      " [149.913 156.642   0.      0.      0.    257.395 273.582 273.582 253.626]\n",
      " [  0.      0.      0.      0.      0.      0.      0.      0.      0.   ]\n",
      " [  0.      0.      0.      0.    354.126 355.76  360.489 347.563 358.422]\n",
      " [  0.      0.      0.      0.    340.026 338.717 342.296 314.891 334.474]\n",
      " [  0.      0.      0.      0.    348.357 350.037 355.392 269.698 354.19 ]\n",
      " [171.6   174.037 158.711 153.525 244.365 268.607 278.746   0.      0.   ]\n",
      " [  0.      0.      0.      0.    353.997 352.699 354.168 333.979 347.356]\n",
      " [  0.      0.      0.      0.    263.927 297.311 291.191 291.191 273.542]\n",
      " [  0.      0.      0.    212.406 358.825 361.558 365.231 354.033 363.299]\n",
      " [  0.      0.      0.      0.      0.      0.      0.    314.874 336.597]\n",
      " [  0.      0.      0.      0.    350.294 351.392 356.354 341.109 354.719]\n",
      " [148.47  155.255   0.    148.343 270.879 296.162 302.839 302.839 278.703]]\n",
      "[528.867 556.723 515.775 445.98  255.991 482.464 541.674   0.    499.6\n",
      " 375.673 523.47  521.9   476.889 495.71  542.565 533.06  524.388 239.\n",
      " 517.416 259.    513.073 468.867 468.22  526.98  515.112 459.95  376.815\n",
      " 442.21  554.877 486.    496.154 536.104 520.614 519.316 517.256 522.394\n",
      " 415.268 514.466 493.506 517.602 523.88  487.446 520.443 518.822 254.589\n",
      " 382.086 544.83  459.212 482.334 381.    538.464 532.776 541.595 476.512\n",
      " 452.007 402.817 456.059 500.228 394.256 484.95  490.512 462.693 515.091\n",
      "   0.    528.343 414.736 500.856 525.487 439.999 552.96  450.985 510.978\n",
      " 456.682 530.914 516.701   0.    448.277 517.542 262.195 521.184 518.107\n",
      " 352.      0.    317.206 543.87  462.369 457.219 229.    444.182   0.\n",
      " 520.423 473.181 528.267 366.      0.    528.771 423.784 517.151   0.\n",
      " 477.721 357.    537.028 431.917 517.831 349.   ]\n"
     ]
    }
   ],
   "source": [
    "print(X_train)  \n",
    "print(y_train)"
   ]
  },
  {
   "cell_type": "markdown",
   "metadata": {},
   "source": [
    "## Lineer Regresyon (Sklearn)"
   ]
  },
  {
   "cell_type": "code",
   "execution_count": 39,
   "metadata": {},
   "outputs": [
    {
     "data": {
      "text/plain": [
       "0.4558686375321833"
      ]
     },
     "execution_count": 39,
     "metadata": {},
     "output_type": "execute_result"
    }
   ],
   "source": [
    "#L_Reg=LinearRegression()\n",
    "L_Reg = LinearRegression().fit(X_train, y_train)\n",
    "L_Reg.score(X,y)"
   ]
  },
  {
   "cell_type": "markdown",
   "metadata": {},
   "source": [
    "## Lineer Regresyon (Sklearn Kütüphanesi Kullanmadan)"
   ]
  },
  {
   "cell_type": "code",
   "execution_count": 40,
   "metadata": {},
   "outputs": [
    {
     "data": {
      "text/html": [
       "<div>\n",
       "<style scoped>\n",
       "    .dataframe tbody tr th:only-of-type {\n",
       "        vertical-align: middle;\n",
       "    }\n",
       "\n",
       "    .dataframe tbody tr th {\n",
       "        vertical-align: top;\n",
       "    }\n",
       "\n",
       "    .dataframe thead th {\n",
       "        text-align: right;\n",
       "    }\n",
       "</style>\n",
       "<table border=\"1\" class=\"dataframe\">\n",
       "  <thead>\n",
       "    <tr style=\"text-align: right;\">\n",
       "      <th></th>\n",
       "      <th>ID</th>\n",
       "      <th>Bolum</th>\n",
       "      <th>Universite</th>\n",
       "      <th>Sehir</th>\n",
       "      <th>1999</th>\n",
       "      <th>2000</th>\n",
       "      <th>2001</th>\n",
       "      <th>2002</th>\n",
       "      <th>2003</th>\n",
       "      <th>2004</th>\n",
       "      <th>2005</th>\n",
       "      <th>2006</th>\n",
       "      <th>2007</th>\n",
       "      <th>2008</th>\n",
       "      <th>2009</th>\n",
       "      <th>2010</th>\n",
       "    </tr>\n",
       "  </thead>\n",
       "  <tbody>\n",
       "    <tr>\n",
       "      <th>0</th>\n",
       "      <td>0</td>\n",
       "      <td>Bilgisayar Mühendisligi</td>\n",
       "      <td>ANADOLU ÜNİVERSİTESİ (ESKİŞEHİR)-İ</td>\n",
       "      <td>Eskişehir</td>\n",
       "      <td>0.000</td>\n",
       "      <td>0.000</td>\n",
       "      <td>0.0</td>\n",
       "      <td>0.0</td>\n",
       "      <td>350.781</td>\n",
       "      <td>349.184</td>\n",
       "      <td>351.886</td>\n",
       "      <td>331.568</td>\n",
       "      <td>346.516</td>\n",
       "      <td>338.689</td>\n",
       "      <td>452.0</td>\n",
       "      <td>476.512</td>\n",
       "    </tr>\n",
       "    <tr>\n",
       "      <th>1</th>\n",
       "      <td>1</td>\n",
       "      <td>Bilgisayar Mühendisligi</td>\n",
       "      <td>ANKARA ÜNİVERSİTESİ</td>\n",
       "      <td>Ankara</td>\n",
       "      <td>0.000</td>\n",
       "      <td>0.000</td>\n",
       "      <td>0.0</td>\n",
       "      <td>0.0</td>\n",
       "      <td>352.496</td>\n",
       "      <td>354.072</td>\n",
       "      <td>356.375</td>\n",
       "      <td>337.520</td>\n",
       "      <td>350.939</td>\n",
       "      <td>342.315</td>\n",
       "      <td>458.0</td>\n",
       "      <td>487.446</td>\n",
       "    </tr>\n",
       "    <tr>\n",
       "      <th>2</th>\n",
       "      <td>2</td>\n",
       "      <td>Bilgisayar Mühendisligi</td>\n",
       "      <td>ATILIM UNİVERSİTESİ (ANKARA)</td>\n",
       "      <td>Ankara</td>\n",
       "      <td>172.266</td>\n",
       "      <td>170.072</td>\n",
       "      <td>0.0</td>\n",
       "      <td>0.0</td>\n",
       "      <td>252.992</td>\n",
       "      <td>279.343</td>\n",
       "      <td>296.337</td>\n",
       "      <td>296.337</td>\n",
       "      <td>272.082</td>\n",
       "      <td>253.769</td>\n",
       "      <td>0.0</td>\n",
       "      <td>0.000</td>\n",
       "    </tr>\n",
       "    <tr>\n",
       "      <th>3</th>\n",
       "      <td>3</td>\n",
       "      <td>Bilgisayar Mühendisligi</td>\n",
       "      <td>ATILIM UNİVERSİTESİ (ANKARA)-B</td>\n",
       "      <td>Ankara</td>\n",
       "      <td>0.000</td>\n",
       "      <td>0.000</td>\n",
       "      <td>0.0</td>\n",
       "      <td>0.0</td>\n",
       "      <td>340.244</td>\n",
       "      <td>339.154</td>\n",
       "      <td>345.326</td>\n",
       "      <td>315.555</td>\n",
       "      <td>335.198</td>\n",
       "      <td>328.233</td>\n",
       "      <td>437.0</td>\n",
       "      <td>459.950</td>\n",
       "    </tr>\n",
       "    <tr>\n",
       "      <th>4</th>\n",
       "      <td>4</td>\n",
       "      <td>Bilgisayar Mühendisligi</td>\n",
       "      <td>ATILIM UNİVERSİTESİ (ANKARA)-B50</td>\n",
       "      <td>Ankara</td>\n",
       "      <td>0.000</td>\n",
       "      <td>0.000</td>\n",
       "      <td>0.0</td>\n",
       "      <td>0.0</td>\n",
       "      <td>0.000</td>\n",
       "      <td>0.000</td>\n",
       "      <td>334.631</td>\n",
       "      <td>295.837</td>\n",
       "      <td>316.256</td>\n",
       "      <td>308.373</td>\n",
       "      <td>334.0</td>\n",
       "      <td>382.086</td>\n",
       "    </tr>\n",
       "  </tbody>\n",
       "</table>\n",
       "</div>"
      ],
      "text/plain": [
       "   ID                    Bolum                          Universite      Sehir  \\\n",
       "0   0  Bilgisayar Mühendisligi  ANADOLU ÜNİVERSİTESİ (ESKİŞEHİR)-İ  Eskişehir   \n",
       "1   1  Bilgisayar Mühendisligi                 ANKARA ÜNİVERSİTESİ     Ankara   \n",
       "2   2  Bilgisayar Mühendisligi        ATILIM UNİVERSİTESİ (ANKARA)     Ankara   \n",
       "3   3  Bilgisayar Mühendisligi      ATILIM UNİVERSİTESİ (ANKARA)-B     Ankara   \n",
       "4   4  Bilgisayar Mühendisligi    ATILIM UNİVERSİTESİ (ANKARA)-B50     Ankara   \n",
       "\n",
       "      1999     2000  2001  2002     2003     2004     2005     2006     2007  \\\n",
       "0    0.000    0.000   0.0   0.0  350.781  349.184  351.886  331.568  346.516   \n",
       "1    0.000    0.000   0.0   0.0  352.496  354.072  356.375  337.520  350.939   \n",
       "2  172.266  170.072   0.0   0.0  252.992  279.343  296.337  296.337  272.082   \n",
       "3    0.000    0.000   0.0   0.0  340.244  339.154  345.326  315.555  335.198   \n",
       "4    0.000    0.000   0.0   0.0    0.000    0.000  334.631  295.837  316.256   \n",
       "\n",
       "      2008   2009     2010  \n",
       "0  338.689  452.0  476.512  \n",
       "1  342.315  458.0  487.446  \n",
       "2  253.769    0.0    0.000  \n",
       "3  328.233  437.0  459.950  \n",
       "4  308.373  334.0  382.086  "
      ]
     },
     "execution_count": 40,
     "metadata": {},
     "output_type": "execute_result"
    }
   ],
   "source": [
    "#Burada csv dosyasını okuduğumuz df değişkenini kullanmak üzere puanlar değişkenine atıyoruz.\n",
    "puanlar = df\n",
    "colums = (puanlar.columns[0])\n",
    "puanlar.head()"
   ]
  },
  {
   "cell_type": "code",
   "execution_count": 41,
   "metadata": {},
   "outputs": [],
   "source": [
    "#Tahminde bulunmak üzere puanlar dışında ki değerleri kaldırıyoruz.\n",
    "del puanlar['ID']\n",
    "del puanlar['Bolum']\n",
    "del puanlar['Universite']\n",
    "del puanlar['Sehir']"
   ]
  },
  {
   "cell_type": "code",
   "execution_count": 42,
   "metadata": {},
   "outputs": [],
   "source": [
    "#Sonraki aşamalarda normalizasyon yapılacağı için orjinal değerleri yazdırabilmek adına puanlari tmp değişkeninde tutuyoruz.\n",
    "tmpPuan=puanlar.copy()"
   ]
  },
  {
   "cell_type": "code",
   "execution_count": 43,
   "metadata": {},
   "outputs": [],
   "source": [
    "#max ve min değerlerini tutuyoruz.\n",
    "max= [puanlar[c].max() for c in puanlar.columns] \n",
    "min= [puanlar[c].min() for c in puanlar.columns]"
   ]
  },
  {
   "cell_type": "code",
   "execution_count": 44,
   "metadata": {},
   "outputs": [],
   "source": [
    "#Normalizasyon işlemi uyguluyoruz.\n",
    "i=0\n",
    "for c in puanlar.columns:\n",
    "    while(i<len(puanlar.columns)): \n",
    "        puanlar[c]=(puanlar[c]-min[i])/(max[i]-min[i])\n",
    "        i=i+1\n",
    "        break"
   ]
  },
  {
   "cell_type": "code",
   "execution_count": 45,
   "metadata": {},
   "outputs": [],
   "source": [
    "#Son 3 yılı tahminde bulunmak için veriyi bölüyoruz.\n",
    "array = puanlar.values\n",
    "x_train=[]\n",
    "yil10=[]\n",
    "yil09=[]\n",
    "yil08=[]\n",
    "a=puanlar.shape\n",
    "for i in range(a[0]):                      \n",
    "    x_train.append((array[i][:-3]).tolist())\n",
    "    yil08.append(array[i][-1])\n",
    "    yil09.append(array[i][-2])\n",
    "    yil10.append(array[i][-3])"
   ]
  },
  {
   "cell_type": "code",
   "execution_count": 46,
   "metadata": {},
   "outputs": [],
   "source": [
    "#x_train için katsayılar matrisi hesaplıyoruz.\n",
    "m=np.ones((141,1)) #Toplam kayıt sayısı 141'dir.\n",
    "b=np.matrix(x_train)\n",
    "b=np.concatenate((m,b),axis=1)     \n",
    "d=b.T\n",
    "e=np.linalg.inv(np.matmul(d,b))\n",
    "yil10=np.matrix(yil10)\n",
    "yil10=yil10.T\n",
    "yil09=np.matrix(yil09)\n",
    "yil09=yil09.T\n",
    "yil08=np.matrix(yil08)\n",
    "yil08=yil08.T\n",
    "f=np.matmul(e,d)\n",
    "c1=np.matmul(f,yil10)\n",
    "c2=np.matmul(f,yil09)\n",
    "c3=np.matmul(f,yil08)"
   ]
  },
  {
   "cell_type": "code",
   "execution_count": 52,
   "metadata": {},
   "outputs": [
    {
     "name": "stdout",
     "output_type": "stream",
     "text": [
      "Tahminde bulunmak istediğiniz üniversite için ID giriniz :91\n",
      "198.516\n",
      "199.305\n",
      "197.52200000000002\n",
      "200.424\n",
      "345.185\n",
      "348.04\n",
      "353.37199999999996\n",
      "336.283\n",
      "351.236\n"
     ]
    }
   ],
   "source": [
    "#Burada test verilerini alıyoruz.(199-2008 arası değerler toplam 9 adet)Ardından tahminde bulunarak saklıyoruz.\n",
    "x_test=[[1],]\n",
    "id=[int(input(\"Tahminde bulunmak istediğiniz üniversite için ID giriniz :\"))]\n",
    "\n",
    "for j in range(9):\n",
    "    print(float(tmpPuan.iloc[id,j]))\n",
    "    x_test.append([float(tmpPuan.iloc[id,j])])\n",
    "\n",
    "for i in range(9):\n",
    "    x_test[i+1][0]=(x_test[i+1][0]-min[i])/(max[i]-min[i])\n",
    "x_test=np.matrix(x_test)\n",
    "yil10=np.matmul(c1.T,x_test)\n",
    "yil09=np.matmul(c2.T,x_test)\n",
    "yil08=np.matmul(c3.T,x_test)"
   ]
  },
  {
   "cell_type": "code",
   "execution_count": 53,
   "metadata": {},
   "outputs": [
    {
     "name": "stdout",
     "output_type": "stream",
     "text": [
      "İlgili ID'ye ait üniversite : 91    BAŞKENT  ÜNİVERSİTESİ (ANKARA)\n",
      "Name: Universite, dtype: object \n",
      "Bölüm : 91    Tıp Fakültesi\n",
      "Name: Bolum, dtype: object\n",
      "2010 tahmini: [[512.34564358]] Gerçek Değer:  507.69300000000004\n",
      "2009 tahmini: [[366.46740025]] Gerçek Değer:  473.0\n",
      "2008 tahmini: [[330.39503267]] Gerçek Değer:  342.913\n"
     ]
    }
   ],
   "source": [
    "#Burada da normalizasyon işlemi geri alınarak tahmin yazdırılır ve gerçek değerler ile karşılaştırılır.\n",
    "print(\"İlgili ID'ye ait üniversite :\", str(df2.iloc[id,2]), \"\\nBölüm :\", str(df2.iloc[id,1]))\n",
    "print(\"2010 tahmini:\",(yil10*(max[-1]-min[-1]))+min[-1], \"Gerçek Değer: \", float(tmpPuan.iloc[id,11]))\n",
    "print(\"2009 tahmini:\",(yil09*(max[-2]-min[-2]))+min[-2], \"Gerçek Değer: \", float(tmpPuan.iloc[id,10]))\n",
    "print(\"2008 tahmini:\",(yil08*(max[-1]-min[-1]))+min[-1], \"Gerçek Değer: \", float(tmpPuan.iloc[id,9]))"
   ]
  },
  {
   "cell_type": "code",
   "execution_count": null,
   "metadata": {},
   "outputs": [],
   "source": []
  }
 ],
 "metadata": {
  "kernelspec": {
   "display_name": "Python 3",
   "language": "python",
   "name": "python3"
  },
  "language_info": {
   "codemirror_mode": {
    "name": "ipython",
    "version": 3
   },
   "file_extension": ".py",
   "mimetype": "text/x-python",
   "name": "python",
   "nbconvert_exporter": "python",
   "pygments_lexer": "ipython3",
   "version": "3.7.6"
  }
 },
 "nbformat": 4,
 "nbformat_minor": 4
}
